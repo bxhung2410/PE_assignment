{
 "cells": [
  {
   "cell_type": "markdown",
   "metadata": {
    "id": "sidl8rN-gpnX"
   },
   "source": [
    "**Installation of SimPy\"\"\n",
    "If not available**"
   ]
  },
  {
   "cell_type": "code",
   "execution_count": 39,
   "metadata": {
    "colab": {
     "base_uri": "https://localhost:8080/",
     "height": 105
    },
    "id": "pKwPk03SfmJK",
    "outputId": "36ba5ba1-32bd-4328-851b-86bad702a048"
   },
   "outputs": [
    {
     "name": "stdout",
     "output_type": "stream",
     "text": [
      "Requirement already satisfied: simpy in c:\\users\\bxhun\\appdata\\local\\programs\\python\\python310\\lib\\site-packages (4.0.1)\n",
      "Note: you may need to restart the kernel to use updated packages.\n"
     ]
    }
   ],
   "source": [
    "pip install simpy"
   ]
  },
  {
   "cell_type": "markdown",
   "metadata": {
    "id": "sK1Rcq_Nn7JU"
   },
   "source": [
    "**Import of required modules**"
   ]
  },
  {
   "cell_type": "code",
   "execution_count": 40,
   "metadata": {
    "id": "ZOd3WZaxoF6X"
   },
   "outputs": [],
   "source": [
    "import simpy\n",
    "import numpy as np\n",
    "import numpy.random as random"
   ]
  },
  {
   "cell_type": "markdown",
   "metadata": {
    "id": "RYQoyxyanvOF"
   },
   "source": [
    "**Parameters settings**"
   ]
  },
  {
   "cell_type": "code",
   "execution_count": 41,
   "metadata": {
    "id": "asVZg4Rhnszz"
   },
   "outputs": [],
   "source": [
    "MAXSIMTIME = 50000\n",
    "VERBOSE = False\n",
    "LAMBDA = 4\n",
    "MU = 6\n",
    "POPULATION = 50000000\n",
    "SERVICE_DISCIPLINE = 'FIFO'\n",
    "LOGGED = True\n",
    "PLOTTED = True"
   ]
  },
  {
   "cell_type": "markdown",
   "metadata": {
    "id": "7DTHSA8KoOee"
   },
   "source": [
    "**Discrete-Event Simulation model**\n"
   ]
  },
  {
   "cell_type": "markdown",
   "metadata": {
    "id": "febxQ9ZloffF"
   },
   "source": [
    "**The definition of a job**.\n",
    "\n",
    "The properties of a job are\n",
    "\n",
    "\n",
    "1. job execution time\n",
    "2. job arrival time"
   ]
  },
  {
   "cell_type": "code",
   "execution_count": 42,
   "metadata": {
    "id": "TEvUrP_ToXfJ"
   },
   "outputs": [],
   "source": [
    "class Job:\n",
    "    def __init__(self, name, arrtime, duration):\n",
    "        self.name = name\n",
    "        self.arrtime = arrtime\n",
    "        self.duration = duration\n",
    "\n",
    "    def __str__(self):\n",
    "        return '%s at %d, length %d' %(self.name, self.arrtime, self.duration)"
   ]
  },
  {
   "cell_type": "markdown",
   "metadata": {
    "id": "kY81H1JZot8D"
   },
   "source": [
    "**Disciplines**\n",
    "Different queue disciplines can be defined here.\n",
    "\n",
    "\n",
    "1.   Shortest Job First (SJF)\n",
    "2.   List item\n",
    "\n"
   ]
  },
  {
   "cell_type": "code",
   "execution_count": 43,
   "metadata": {
    "id": "48b26HGLo-u-"
   },
   "outputs": [],
   "source": [
    "def SJF( job ):\n",
    "    return job.duration"
   ]
  },
  {
   "cell_type": "markdown",
   "metadata": {
    "id": "8xrYAaF1pNQw"
   },
   "source": [
    "**The definition of server**\n",
    "\n",
    " There are 2 arguments needed for a server:\n",
    " 1. env: SimPy environment\n",
    " 2. queue discipline: \n",
    "   - FIFO: First In First Out\n",
    "   - SJF : Shortest Job First"
   ]
  },
  {
   "cell_type": "code",
   "execution_count": 44,
   "metadata": {
    "id": "-6HYojvLpyZY"
   },
   "outputs": [],
   "source": [
    "class Server:\n",
    "    def __init__(self, env, qlog,strat = 'FIFO'):\n",
    "        self.env = env\n",
    "        self.strat = strat\n",
    "        self.Jobs = list(())\n",
    "        self.serversleeping = None\n",
    "        self.isBusy = False\n",
    "        self.qlog = qlog\n",
    "        ''' statistics '''\n",
    "        self.waitingTime = 0\n",
    "        self.idleTime = 0\n",
    "        self.jobsDone = 0\n",
    "        self.responseTime = 0\n",
    "\n",
    "        ''' register a new server process '''\n",
    "        env.process( self.serve() )\n",
    "\n",
    "    def serve(self):\n",
    "        while True:\n",
    "            ''' do nothing, just change server to idle\n",
    "              and then yield a wait event which takes infinite time\n",
    "            '''\n",
    "            if len( self.Jobs ) == 0 :\n",
    "                self.isBusy = False\n",
    "                self.serversleeping = self.env.process( self.waiting( self.env ))\n",
    "                t1 = self.env.now\n",
    "                yield self.serversleeping\n",
    "                ''' accumulate the server idle time'''\n",
    "                self.idleTime += self.env.now - t1\n",
    "                self.isBusy = True\n",
    "            else:\n",
    "                ''' get the first job to be served'''\n",
    "                if self.strat == 'SJF':\n",
    "                    self.Jobs.sort( key = SJF )\n",
    "                    j = self.Jobs.pop( 0 )\n",
    "                else: # FIFO by default\n",
    "                    j = self.Jobs.pop( 0 )\n",
    "                if LOGGED:\n",
    "                    self.qlog.write( '%.4f\\t%d\\t%d\\n' \n",
    "                        % (self.env.now, 1 if len(self.Jobs)>0 else 0, len(self.Jobs)) )\n",
    "\n",
    "                ''' sum up the waiting time'''\n",
    "                self.waitingTime += self.env.now - j.arrtime\n",
    "                ''' yield an event for the job finish'''\n",
    "                yield self.env.timeout( j.duration )\n",
    "                ''' sum up the jobs done '''\n",
    "                self.responseTime += self.env.now - j.arrtime\n",
    "                self.jobsDone += 1\n",
    "\n",
    "    def waiting(self, env):\n",
    "        try:\n",
    "            if VERBOSE:\n",
    "                print( 'Server is idle at %.2f' % self.env.now )\n",
    "            yield self.env.timeout( MAXSIMTIME )\n",
    "        except simpy.Interrupt as i:\n",
    "            if VERBOSE:\n",
    "                 print('Server waken up and works at %.2f' % self.env.now )"
   ]
  },
  {
   "cell_type": "markdown",
   "metadata": {
    "id": "O-nvQ8o_qHfn"
   },
   "source": [
    "**The arrival process**\n",
    "\n",
    "The arrival process is exponentially distributed which is parameterized by\n",
    "1. number of servers\n",
    "2. maximum number of population\n",
    "3. arrival rate $\\lambda$\n",
    "4. service rate $\\mu$\n",
    "*Note that, the implementation of the arrival process embeds both arrival and service distributions.*"
   ]
  },
  {
   "cell_type": "code",
   "execution_count": 45,
   "metadata": {
    "id": "R7nU8BkzqKr5"
   },
   "outputs": [],
   "source": [
    "class JobGenerator:\n",
    "    def __init__(self, env, server, nrjobs = 10000000, lam = 5, mu = 8):\n",
    "        self.server = server\n",
    "        self.nrjobs = nrjobs\n",
    "        self.interarrivaltime = 1/lam;\n",
    "        self.servicetime = 1/mu;\n",
    "        env.process( self.generatejobs(env) )\n",
    "        \n",
    "    def generatejobs(self, env):\n",
    "        i = 1\n",
    "        while True:\n",
    "            '''yield an event for new job arrival'''\n",
    "            job_interarrival = random.exponential( self.interarrivaltime )\n",
    "            yield env.timeout( job_interarrival )\n",
    "\n",
    "            ''' generate service time and add job to the list'''\n",
    "            job_duration = random.exponential( self.servicetime )\n",
    "            self.server.Jobs.append( Job('Job %s' %i, env.now, job_duration) )\n",
    "            if VERBOSE:\n",
    "                print( 'job %d: t = %.2f, l = %.2f, dt = %.2f' \n",
    "                    %( i, env.now, job_duration, job_interarrival ) )\n",
    "            i += 1\n",
    "\n",
    "            ''' if server is idle, wake it up'''\n",
    "            if not self.server.serversleeping.triggered:\n",
    "                self.server.serversleeping.interrupt( 'Wake up, please.' )\n"
   ]
  },
  {
   "cell_type": "markdown",
   "metadata": {
    "id": "NxbCXAF1rMZ4"
   },
   "source": [
    "**Open the log file**\n",
    "\n",
    "If requested."
   ]
  },
  {
   "cell_type": "code",
   "execution_count": 46,
   "metadata": {
    "id": "aSjPUvGfrSJc"
   },
   "outputs": [],
   "source": [
    "if LOGGED:\n",
    "    qlog_1 = open( 'parallel-l%d-m%d_1.csv' % (LAMBDA/2,MU), 'w' )\n",
    "    qlog_1.write( '0\\t0\\t0\\n' )\n",
    "    qlog_2 = open( 'parallel-l%d-m%d_2.csv' % (LAMBDA/2,MU), 'w' )\n",
    "    qlog_2.write( '0\\t0\\t0\\n' )"
   ]
  },
  {
   "cell_type": "markdown",
   "metadata": {
    "id": "k8WFQcQtrWws"
   },
   "source": [
    "**Start SimPy environment**"
   ]
  },
  {
   "cell_type": "code",
   "execution_count": 47,
   "metadata": {
    "id": "BO60ZKxjracy"
   },
   "outputs": [],
   "source": [
    "env = simpy.Environment()\n",
    "MyServer_1 = Server( env, qlog_1, SERVICE_DISCIPLINE )\n",
    "MyServer_2 = Server( env, qlog_2, SERVICE_DISCIPLINE )\n",
    "MyJobGenerator_1 = JobGenerator( env, MyServer_1, POPULATION, LAMBDA/2, MU )\n",
    "MyJobGenerator_2 = JobGenerator( env, MyServer_2, POPULATION, LAMBDA/2, MU )"
   ]
  },
  {
   "cell_type": "markdown",
   "metadata": {
    "id": "SlH3zUajre1W"
   },
   "source": [
    "**Run the simulation** "
   ]
  },
  {
   "cell_type": "code",
   "execution_count": 48,
   "metadata": {
    "id": "ZEBVpZLLriBS"
   },
   "outputs": [],
   "source": [
    "env.run( until = MAXSIMTIME )"
   ]
  },
  {
   "cell_type": "markdown",
   "metadata": {
    "id": "0Vl6BUoxrqBm"
   },
   "source": [
    "**Close the log file**"
   ]
  },
  {
   "cell_type": "code",
   "execution_count": 49,
   "metadata": {
    "id": "Y9FtIQ8lrt-7"
   },
   "outputs": [],
   "source": [
    "if LOGGED:\n",
    "    qlog_1.close()\n",
    "    qlog_2.close()"
   ]
  },
  {
   "cell_type": "markdown",
   "metadata": {
    "id": "6FhfyIj4rxFs"
   },
   "source": [
    "**Print some statistics**"
   ]
  },
  {
   "cell_type": "code",
   "execution_count": 50,
   "metadata": {
    "colab": {
     "base_uri": "https://localhost:8080/",
     "height": 68
    },
    "id": "Dn4otA3srzw8",
    "outputId": "d7b30780-c809-49fd-90d2-4d387b4c8bca"
   },
   "outputs": [
    {
     "name": "stdout",
     "output_type": "stream",
     "text": [
      "Arrivals Server 1              : 99666\n",
      "Utilization Server 1           : 0.33/0.33\n",
      "Mean waiting time Server 1     : 0.08/0.08\n",
      "Mean response time                                  : 0.25/0.25\n",
      "Mean service time                                   : 0.17/0.17\n",
      "Mean numbers of jobs in the system                  : 0.50/0.50\n",
      "Mean numbers of jobs in the queue - Queue length    : 0.16/0.17\n",
      "Arrivals Server 2              : 100552\n",
      "Utilization Server 2           : 0.34/0.33\n",
      "Mean waiting time Server 2     : 0.09/0.08\n",
      "Mean response time                                  : 0.25/0.25\n",
      "Mean service time                                   : 0.17/0.17\n",
      "Mean numbers of jobs in the system                  : 0.51/0.50\n",
      "Mean numbers of jobs in the queue - Queue length    : 0.17/0.17\n",
      "Response time of system     : 0.25\n",
      "Waiting time of system      : 0.08\n",
      "Service time of system      : 0.17\n",
      "Mean njobs of system        : 0.50\n",
      "Mean njobs of queue         : 0.34\n"
     ]
    }
   ],
   "source": [
    "RHO = (LAMBDA/2)/MU\n",
    "print( 'Arrivals Server 1              : %d' % (MyServer_1.jobsDone) )\n",
    "print( 'Utilization Server 1           : %.2f/%.2f' \n",
    "    % (1.0-MyServer_1.idleTime/MAXSIMTIME, RHO) )\n",
    "print( 'Mean waiting time Server 1     : %.2f/%.2f' \n",
    "    % (MyServer_1.waitingTime/MyServer_1.jobsDone, RHO**2/((1-RHO)*(LAMBDA/2)) ) )\n",
    "\n",
    "print( 'Mean response time                                  : %.2f/%.2f' \n",
    "    % (MyServer_1.responseTime/MyServer_1.jobsDone, (1/MU)/(1-RHO)) )\n",
    "\n",
    "print( 'Mean service time                                   : %.2f/%.2f' \n",
    "    % ((MyServer_1.responseTime - MyServer_1.waitingTime)/MyServer_1.jobsDone, (1/MU)/(1-RHO) - RHO**2/((1-RHO)*(LAMBDA/2))) )\n",
    "\n",
    "print( 'Mean numbers of jobs in the system                  : %.2f/%.2f' \n",
    "    % (MyServer_1.responseTime/MAXSIMTIME, RHO/(1-RHO)) )\n",
    "\n",
    "print( 'Mean numbers of jobs in the queue - Queue length    : %.2f/%.2f' \n",
    "    % (MyServer_1.waitingTime/MAXSIMTIME, RHO**2/(1-RHO)) )\n",
    "\n",
    "\n",
    "print( 'Arrivals Server 2              : %d' % (MyServer_2.jobsDone) )\n",
    "print( 'Utilization Server 2           : %.2f/%.2f' \n",
    "    % (1.0-MyServer_2.idleTime/MAXSIMTIME, RHO) )\n",
    "print( 'Mean waiting time Server 2     : %.2f/%.2f' \n",
    "    % (MyServer_2.waitingTime/MyServer_2.jobsDone, RHO**2/((1-RHO)*(LAMBDA/2)) ) )\n",
    "\n",
    "print( 'Mean response time                                  : %.2f/%.2f' \n",
    "    % (MyServer_2.responseTime/MyServer_2.jobsDone, (1/MU)/(1-RHO)) )\n",
    "\n",
    "print( 'Mean service time                                   : %.2f/%.2f' \n",
    "    % ((MyServer_2.responseTime - MyServer_2.waitingTime)/MyServer_2.jobsDone, (1/MU)/(1-RHO) - RHO**2/((1-RHO)*(LAMBDA/2))) )\n",
    "\n",
    "print( 'Mean numbers of jobs in the system                  : %.2f/%.2f' \n",
    "    % (MyServer_2.responseTime/MAXSIMTIME, RHO/(1-RHO)) )\n",
    "\n",
    "print( 'Mean numbers of jobs in the queue - Queue length    : %.2f/%.2f' \n",
    "    % (MyServer_2.waitingTime/MAXSIMTIME, RHO**2/(1-RHO)) )\n",
    "\n",
    "systemResponseTime = (MyServer_1.responseTime/MyServer_1.jobsDone + MyServer_2.responseTime/MyServer_2.jobsDone)/2\n",
    "systemWaitingTime = (MyServer_1.waitingTime/MyServer_1.jobsDone + MyServer_2.waitingTime/MyServer_2.jobsDone)/2\n",
    "systemServiceTime = systemResponseTime - systemWaitingTime\n",
    "\n",
    "\n",
    "meanNJobsInSystem = (MyServer_1.responseTime/MyServer_1.jobsDone + MyServer_2.responseTime/MyServer_2.jobsDone)\n",
    "meanNJobsInQueue = (MyServer_1.waitingTime/MAXSIMTIME + MyServer_2.waitingTime/MAXSIMTIME)\n",
    "\n",
    "print( 'Response time of system     : %.2f' %(systemResponseTime))\n",
    "print( 'Waiting time of system      : %.2f' %(systemWaitingTime))\n",
    "print( 'Service time of system      : %.2f' %(systemServiceTime))\n",
    "print( 'Mean njobs of system        : %.2f' %(meanNJobsInSystem))\n",
    "print( 'Mean njobs of queue         : %.2f' %(meanNJobsInQueue))\n",
    "\n"
   ]
  },
  {
   "cell_type": "markdown",
   "metadata": {
    "id": "KsYgIPPNr2u5"
   },
   "source": [
    "**Plot the statistics**"
   ]
  },
  {
   "cell_type": "code",
   "execution_count": 51,
   "metadata": {
    "colab": {
     "base_uri": "https://localhost:8080/",
     "height": 297
    },
    "id": "Bq3SlNxEr4li",
    "outputId": "8d04e372-2591-4b87-d8dd-c4652fecea6e"
   },
   "outputs": [
    {
     "data": {
      "image/png": "[encoded data removed]",
      "text/plain": [
       "<Figure size 640x480 with 2 Axes>"
      ]
     },
     "metadata": {},
     "output_type": "display_data"
    },
    {
     "data": {
      "image/png": "[encoded data removed]",
      "text/plain": [
       "<Figure size 640x480 with 2 Axes>"
      ]
     },
     "metadata": {},
     "output_type": "display_data"
    }
   ],
   "source": [
    "if LOGGED and PLOTTED:\n",
    "    import matplotlib.pyplot as plt\n",
    "    log = np.loadtxt( 'parallel-l%d-m%d_1.csv' % (LAMBDA/2,MU), delimiter = '\\t' )\n",
    "    plt.subplot( 2, 1, 1 )\n",
    "    plt.xlabel( 'Time' )\n",
    "    plt.ylabel( 'Queue 1 length' )\n",
    "    plt.step( log[:200,0], log[:200,2], where='post' )\n",
    "    plt.subplot( 2, 1, 2 )\n",
    "    plt.xlabel( 'Time' )\n",
    "    plt.ylabel( 'Server 1 state' )\n",
    "    plt.yticks([0, 1], ['idle', 'busy'])\n",
    "    #plt.step( log[:200,0], log[:200,1], where='post' )\n",
    "    plt.fill_between( log[:200,0], 0, log[:200,1], step=\"post\", alpha=.4 )\n",
    "    plt.tight_layout()\n",
    "    plt.show()\n",
    "\n",
    "    log = np.loadtxt( 'parallel-l%d-m%d_2.csv' % (LAMBDA/2,MU), delimiter = '\\t' )\n",
    "    plt.subplot( 2, 1, 1 )\n",
    "    plt.xlabel( 'Time' )\n",
    "    plt.ylabel( 'Queue 2 length' )\n",
    "    plt.step( log[:200,0], log[:200,2], where='post' )\n",
    "    plt.subplot( 2, 1, 2 )\n",
    "    plt.xlabel( 'Time' )\n",
    "    plt.ylabel( 'Server 2 state' )\n",
    "    plt.yticks([0, 1], ['idle', 'busy'])\n",
    "    #plt.step( log[:200,0], log[:200,1], where='post' )\n",
    "    plt.fill_between( log[:200,0], 0, log[:200,1], step=\"post\", alpha=.4 )\n",
    "    plt.tight_layout()\n",
    "    plt.show()"
   ]
  },
  {
   "cell_type": "code",
   "execution_count": null,
   "metadata": {
    "id": "iJB9U_uQscYg"
   },
   "outputs": [],
   "source": []
  }
 ],
 "metadata": {
  "colab": {
   "collapsed_sections": [],
   "name": "MM1.ipynb",
   "provenance": []
  },
  "kernelspec": {
   "display_name": "Python 3.10.7 64-bit",
   "language": "python",
   "name": "python3"
  },
  "language_info": {
   "codemirror_mode": {
    "name": "ipython",
    "version": 3
   },
   "file_extension": ".py",
   "mimetype": "text/x-python",
   "name": "python",
   "nbconvert_exporter": "python",
   "pygments_lexer": "ipython3",
   "version": "3.10.7"
  },
  "vscode": {
   "interpreter": {
    "hash": "9be78778915b55682a787e8e3e2510c3b92658f383d97d87a279aefc09f16e60"
   }
  }
 },
 "nbformat": 4,
 "nbformat_minor": 4
}
